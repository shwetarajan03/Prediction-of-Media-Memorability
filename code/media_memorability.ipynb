{
  "nbformat": 4,
  "nbformat_minor": 0,
  "metadata": {
    "accelerator": "GPU",
    "colab": {
      "name": "media_memorability.ipynb",
      "provenance": [],
      "collapsed_sections": []
    },
    "kernelspec": {
      "display_name": "Python 3",
      "language": "python",
      "name": "python3"
    },
    "language_info": {
      "codemirror_mode": {
        "name": "ipython",
        "version": 3
      },
      "file_extension": ".py",
      "mimetype": "text/x-python",
      "name": "python",
      "nbconvert_exporter": "python",
      "pygments_lexer": "ipython3",
      "version": "3.7.3"
    }
  },
  "cells": [
    {
      "cell_type": "code",
      "metadata": {
        "id": "lw6aBh6YtpAI",
        "collapsed": true,
        "colab": {
          "base_uri": "https://localhost:8080/"
        },
        "outputId": "9e6d5e55-fadf-4f72-85dc-0e917926b2eb"
      },
      "source": [
        "from google.colab import drive\n",
        "drive.mount('/content/drive/')"
      ],
      "execution_count": 1,
      "outputs": [
        {
          "output_type": "stream",
          "name": "stdout",
          "text": [
            "Mounted at /content/drive/\n"
          ]
        }
      ]
    },
    {
      "cell_type": "markdown",
      "metadata": {
        "id": "onKXg5Q0ubRF"
      },
      "source": [
        "## Install necessary Libraries"
      ]
    },
    {
      "cell_type": "code",
      "metadata": {
        "id": "jMFhooMFtzpQ"
      },
      "source": [
        "import os\n",
        "os.chdir(\"/content/drive/My Drive/Media-Memorability/\")"
      ],
      "execution_count": 2,
      "outputs": []
    },
    {
      "cell_type": "markdown",
      "metadata": {
        "id": "Gz4O2sKnujaI"
      },
      "source": [
        "## Import Libraries"
      ]
    },
    {
      "cell_type": "code",
      "metadata": {
        "id": "lLtbrlF3uXaK"
      },
      "source": [
        "## Import necessary libraries\n",
        "import pandas as pd\n",
        "import scipy\n",
        "from keras import Sequential\n",
        "from keras import layers\n",
        "from keras import regularizers\n",
        "import numpy as np\n",
        "from string import punctuation\n",
        "from collections import Counter\n",
        "from keras.preprocessing.text import Tokenizer\n",
        "from sklearn.model_selection import train_test_split\n",
        "import matplotlib.pyplot as plt"
      ],
      "execution_count": 3,
      "outputs": []
    },
    {
      "cell_type": "markdown",
      "metadata": {
        "id": "NA6_zvDVuul1"
      },
      "source": [
        "## Importing Necessary Data\n"
      ]
    },
    {
      "cell_type": "code",
      "metadata": {
        "id": "5n7M8s0fuH3s"
      },
      "source": [
        "# reading labels and captions into dataframe\n",
        "def read_caps(fname):\n",
        "    \"\"\"Load the captions into a dataframe\"\"\"\n",
        "    vn = []\n",
        "    cap = []\n",
        "    df = pd.DataFrame();\n",
        "    with open(fname) as f:\n",
        "        for line in f:\n",
        "            pairs = line.split()\n",
        "            vn.append(pairs[0])\n",
        "            cap.append(pairs[1])\n",
        "        df['video']=vn\n",
        "        df['caption']=cap\n",
        "    return df\n",
        "\n",
        "\n",
        "# loading captions into df_cap \n",
        "cap_path = './data/Captions/dev-set_video-captions.txt'\n",
        "df_cap=read_caps(cap_path)\n",
        "\n",
        "# loading ground truth values into labels\n",
        "label_path = './data/Ground-truth/'\n",
        "labels=pd.read_csv(label_path+'ground-truth.csv')"
      ],
      "execution_count": 4,
      "outputs": []
    },
    {
      "cell_type": "code",
      "metadata": {
        "id": "O2fGVN4WuU_e"
      },
      "source": [
        "#df_cap\n",
        "#labels"
      ],
      "execution_count": null,
      "outputs": []
    },
    {
      "cell_type": "markdown",
      "metadata": {
        "id": "cpj6xn1gvBKe"
      },
      "source": [
        "## Data Preprocessing "
      ]
    },
    {
      "cell_type": "code",
      "metadata": {
        "id": "5czVp__Yu4j3"
      },
      "source": [
        "## Lets count the words and remove punctuations\n",
        "counts = Counter()\n",
        "for i, cap in enumerate(df_cap['caption']):\n",
        "    # replace punctuations with space\n",
        "    # convert words to lower case \n",
        "    text = ''.join([c if c not in punctuation else ' ' for c in cap]).lower()\n",
        "    df_cap.loc[i,'caption'] = text\n",
        "    counts.update(text.split())"
      ],
      "execution_count": 5,
      "outputs": []
    },
    {
      "cell_type": "code",
      "metadata": {
        "id": "oJmpl9Rzzm0G"
      },
      "source": [
        "#counts\n",
        "#len(counts)"
      ],
      "execution_count": null,
      "outputs": []
    },
    {
      "cell_type": "markdown",
      "metadata": {
        "id": "CyFaxuaXz9AP"
      },
      "source": [
        "## Text Mapping "
      ]
    },
    {
      "cell_type": "code",
      "metadata": {
        "id": "MdT62HYLz3x_"
      },
      "source": [
        "len_token = len(counts) # create length of token\n",
        "tokenizer = Tokenizer(num_words=len_token) # use tokenizer\n",
        "#print(len_token)"
      ],
      "execution_count": 6,
      "outputs": []
    },
    {
      "cell_type": "code",
      "metadata": {
        "id": "wwZITEyn0OSS"
      },
      "source": [
        "tokenizer.fit_on_texts(list(df_cap.caption.values)) #fit a list of captions to the tokenizer\n",
        "#the tokenizer vectorizes a text corpus, by turning each text into either a sequence of integers "
      ],
      "execution_count": 7,
      "outputs": []
    },
    {
      "cell_type": "markdown",
      "metadata": {
        "id": "s9GZvRJV0YuV"
      },
      "source": [
        "## One-Hot Encoding of text"
      ]
    },
    {
      "cell_type": "code",
      "metadata": {
        "id": "knEYTf780YL0"
      },
      "source": [
        "## Convert the integers into binary 0 and 1 format\n",
        "one_hot_res = tokenizer.texts_to_matrix(list(df_cap.caption.values),mode='binary')\n"
      ],
      "execution_count": 8,
      "outputs": []
    },
    {
      "cell_type": "code",
      "metadata": {
        "id": "AJj5LN3Y0Vl6"
      },
      "source": [
        "#one_hot_res.shape"
      ],
      "execution_count": null,
      "outputs": []
    },
    {
      "cell_type": "markdown",
      "metadata": {
        "id": "ww3VEpL51H24"
      },
      "source": [
        "## Get X and Y values for prediction"
      ]
    },
    {
      "cell_type": "code",
      "metadata": {
        "id": "7HcJw9nS0yu4"
      },
      "source": [
        "## one_hot_res will be our X variable\n",
        "## predictor will be our Y variable\n",
        "predictor = labels[['short-term_memorability','long-term_memorability']].values\n",
        "Y = predictor\n",
        "X = one_hot_res\n"
      ],
      "execution_count": 9,
      "outputs": []
    },
    {
      "cell_type": "markdown",
      "metadata": {
        "id": "m9HjS5S71S14"
      },
      "source": [
        "## Train-Test Split"
      ]
    },
    {
      "cell_type": "code",
      "metadata": {
        "id": "H4TCxun11SNY"
      },
      "source": [
        "X_train, X_test, Y_train, Y_test = train_test_split(X,Y, test_size=0.2, random_state=42)"
      ],
      "execution_count": 10,
      "outputs": []
    },
    {
      "cell_type": "markdown",
      "metadata": {
        "id": "s9bqELxt1gNd"
      },
      "source": [
        "\n",
        "\n",
        "---\n",
        "## Model is built using keras as it provides GPU support for faster training."
      ]
    },
    {
      "cell_type": "markdown",
      "metadata": {
        "id": "T8a8lwVAA3Dj"
      },
      "source": [
        "### Multilayer perceptron Model"
      ]
    },
    {
      "cell_type": "code",
      "metadata": {
        "id": "3WC7QiIu1GTg",
        "colab": {
          "base_uri": "https://localhost:8080/",
          "height": 1000
        },
        "outputId": "b0a3a466-9fc4-4e26-f70d-ac74790b651e"
      },
      "source": [
        "## Multi Layer perceptron Model \n",
        "\n",
        "model=Sequential() # Create Sequential NN model\n",
        "\n",
        "## Add layers for MLP\n",
        "model.add(layers.Dropout(0.6, input_shape=(len_token,))) # add dropout layer\n",
        "\n",
        "# layer of 10 neurons with selu activation function, L2 Regularization and initial weights as zeros\n",
        "model.add(layers.Dense(10,activation='selu',kernel_regularizer=regularizers.l2(0.001), kernel_initializer='zeros')) \n",
        "\n",
        "# layer of 10 neurons with selu activation function and L2 Regularization\n",
        "model.add(layers.Dense(10,activation='selu',kernel_regularizer=regularizers.l2(0.001)))\n",
        "\n",
        "# add dropout\n",
        "model.add(layers.Dropout(0.6))\n",
        "model.add(layers.Dense(2,activation='sigmoid')) ## Last activation as sigmoid to predict score\n",
        "\n",
        "## Compile the model \n",
        "# Optimizer Adamax\n",
        "model.compile(optimizer='adamax',loss='mse',metrics=['acc'])\n",
        "\n",
        "## All hyperparameters are selected using GridSearch and Trial & Error Approach\n",
        "\n",
        "## Training the model \n",
        "# Number of epochs also comes from Gridsearch\n",
        "history = model.fit(X_train,Y_train,epochs=20, validation_data=(X_test,Y_test))\n",
        "\n",
        "# visualizing the model\n",
        "loss = history.history['loss']\n",
        "val_loss = history.history['val_loss']\n",
        "\n",
        "epochs = range(1,len(loss)+1)\n",
        "\n",
        "plt.plot(epochs,loss,'bo',label='Training loss')\n",
        "plt.plot(epochs,val_loss,'b',label='Validation loss')\n",
        "plt.title('Training and validation loss')\n",
        "plt.xlabel('Epochs')\n",
        "plt.ylabel('Loss')\n",
        "plt.legend()\n",
        "plt.show()\n",
        "\n",
        "plt.figure()\n",
        "acc = history.history['acc']\n",
        "val_acc = history.history['val_acc']\n",
        "plt.plot(epochs, acc, 'bo', label='Training acc')\n",
        "plt.plot(epochs, val_acc, 'b', label='Validation acc')\n",
        "plt.title('Training and validation accuracy')\n",
        "plt.xlabel('Epochs')\n",
        "plt.ylabel('Acc')\n",
        "plt.legend()\n",
        "plt.show()\n",
        "\n"
      ],
      "execution_count": 11,
      "outputs": [
        {
          "output_type": "stream",
          "name": "stdout",
          "text": [
            "Epoch 1/20\n",
            "150/150 [==============================] - 4s 6ms/step - loss: 0.0633 - acc: 0.6085 - val_loss: 0.0263 - val_acc: 0.7100\n",
            "Epoch 2/20\n",
            "150/150 [==============================] - 1s 4ms/step - loss: 0.0355 - acc: 0.6215 - val_loss: 0.0220 - val_acc: 0.7100\n",
            "Epoch 3/20\n",
            "150/150 [==============================] - 1s 5ms/step - loss: 0.0319 - acc: 0.6352 - val_loss: 0.0205 - val_acc: 0.7100\n",
            "Epoch 4/20\n",
            "150/150 [==============================] - 1s 4ms/step - loss: 0.0297 - acc: 0.6513 - val_loss: 0.0192 - val_acc: 0.7100\n",
            "Epoch 5/20\n",
            "150/150 [==============================] - 1s 5ms/step - loss: 0.0272 - acc: 0.6506 - val_loss: 0.0181 - val_acc: 0.7100\n",
            "Epoch 6/20\n",
            "150/150 [==============================] - 1s 5ms/step - loss: 0.0254 - acc: 0.6615 - val_loss: 0.0171 - val_acc: 0.7100\n",
            "Epoch 7/20\n",
            "150/150 [==============================] - 1s 4ms/step - loss: 0.0239 - acc: 0.6677 - val_loss: 0.0164 - val_acc: 0.7100\n",
            "Epoch 8/20\n",
            "150/150 [==============================] - 1s 4ms/step - loss: 0.0232 - acc: 0.6648 - val_loss: 0.0158 - val_acc: 0.7100\n",
            "Epoch 9/20\n",
            "150/150 [==============================] - 1s 4ms/step - loss: 0.0217 - acc: 0.6665 - val_loss: 0.0154 - val_acc: 0.7100\n",
            "Epoch 10/20\n",
            "150/150 [==============================] - 1s 4ms/step - loss: 0.0202 - acc: 0.6765 - val_loss: 0.0151 - val_acc: 0.7100\n",
            "Epoch 11/20\n",
            "150/150 [==============================] - 1s 4ms/step - loss: 0.0194 - acc: 0.6750 - val_loss: 0.0148 - val_acc: 0.7100\n",
            "Epoch 12/20\n",
            "150/150 [==============================] - 1s 5ms/step - loss: 0.0184 - acc: 0.6808 - val_loss: 0.0146 - val_acc: 0.7100\n",
            "Epoch 13/20\n",
            "150/150 [==============================] - 1s 4ms/step - loss: 0.0184 - acc: 0.6865 - val_loss: 0.0144 - val_acc: 0.7100\n",
            "Epoch 14/20\n",
            "150/150 [==============================] - 1s 5ms/step - loss: 0.0176 - acc: 0.6892 - val_loss: 0.0143 - val_acc: 0.7100\n",
            "Epoch 15/20\n",
            "150/150 [==============================] - 1s 4ms/step - loss: 0.0171 - acc: 0.6906 - val_loss: 0.0142 - val_acc: 0.7100\n",
            "Epoch 16/20\n",
            "150/150 [==============================] - 1s 4ms/step - loss: 0.0168 - acc: 0.6975 - val_loss: 0.0141 - val_acc: 0.7100\n",
            "Epoch 17/20\n",
            "150/150 [==============================] - 1s 5ms/step - loss: 0.0160 - acc: 0.7019 - val_loss: 0.0140 - val_acc: 0.7100\n",
            "Epoch 18/20\n",
            "150/150 [==============================] - 1s 5ms/step - loss: 0.0161 - acc: 0.7027 - val_loss: 0.0140 - val_acc: 0.7100\n",
            "Epoch 19/20\n",
            "150/150 [==============================] - 1s 4ms/step - loss: 0.0154 - acc: 0.7035 - val_loss: 0.0140 - val_acc: 0.7100\n",
            "Epoch 20/20\n",
            "150/150 [==============================] - 1s 4ms/step - loss: 0.0153 - acc: 0.7035 - val_loss: 0.0139 - val_acc: 0.7100\n"
          ]
        },
        {
          "output_type": "display_data",
          "data": {
            "image/png": "[encoded data removed]",
            "text/plain": [
              "<Figure size 432x288 with 1 Axes>"
            ]
          },
          "metadata": {
            "needs_background": "light"
          }
        },
        {
          "output_type": "display_data",
          "data": {
            "image/png": "[encoded data removed]",
            "text/plain": [
              "<Figure size 432x288 with 1 Axes>"
            ]
          },
          "metadata": {
            "needs_background": "light"
          }
        }
      ]
    },
    {
      "cell_type": "markdown",
      "metadata": {
        "id": "EuL1q7VnZO-N"
      },
      "source": [
        "## To predict and test the model. See the code at the end"
      ]
    },
    {
      "cell_type": "markdown",
      "metadata": {
        "id": "gxRLs6hAIYIV"
      },
      "source": [
        "## Convolutional Neural Network Model\n"
      ]
    },
    {
      "cell_type": "code",
      "metadata": {
        "id": "jAkjh5gUIWvx",
        "colab": {
          "base_uri": "https://localhost:8080/",
          "height": 1000
        },
        "outputId": "01212dbd-a06a-4879-908e-387a17cd88f8"
      },
      "source": [
        "# Some prerequiste for RNN\n",
        "## one_hot_res will be our X variable\n",
        "## predictor will be our Y variable\n",
        "predictor = labels[['short-term_memorability','long-term_memorability']].values\n",
        "Y = predictor\n",
        "X = one_hot_res\n",
        "X_train, X_test, Y_train, Y_test = train_test_split(X,Y, test_size=0.2, random_state=42)\n",
        "\n",
        "## Convolutional Neural Network \n",
        "embedding_dim = 100 # Embedding dimension to convert / reduce captions dimensions\n",
        "vocab_size=5191 # Size of our vocabulary\n",
        "\n",
        "model=Sequential() # Create Sequential NN model\n",
        "\n",
        "## add Embedding layer to convert dimensions required by Convolutional Layer\n",
        "model.add(layers.Embedding(vocab_size, embedding_dim, input_length=5191))\n",
        "\n",
        "## add 1D Convolutional Layer of with 128 filters and 5 as length of Convolutional window\n",
        "model.add(layers.Conv1D(128, 5, activation='selu', kernel_initializer='zeros', kernel_regularizer=regularizers.l2(0.001)))\n",
        "\n",
        "## add global max pooling layers as it a Naturnal Language Processing task\n",
        "model.add(layers.GlobalMaxPooling1D())\n",
        "\n",
        "## layer of 10 neurons with Ridge Regularization and dropout\n",
        "model.add(layers.Dense(10, activation='selu', kernel_regularizer=regularizers.l2(0.001)))\n",
        "#model.add(layers.Dropout(0.6))\n",
        "\n",
        "## layer of 10 neurons with Ridge Regularization\n",
        "model.add(layers.Dense(10,activation='selu',kernel_regularizer=regularizers.l2(0.001)))\n",
        "#model.add(layers.Dropout(0.6))\n",
        "\n",
        "## output layer with 2 neurons for each score with sigmoid activation\n",
        "model.add(layers.Dense(2, activation='sigmoid'))\n",
        "\n",
        "# compile the model \n",
        "model.compile(optimizer='adamax',loss='mse',metrics=['acc'])\n",
        "\n",
        "# training the model \n",
        "history = model.fit(X_train,Y_train,epochs=20, validation_data=(X_test,Y_test))\n",
        "\n",
        "# visualizing the model\n",
        "loss = history.history['loss']\n",
        "val_loss = history.history['val_loss']\n",
        "\n",
        "epochs = range(1,len(loss)+1)\n",
        "\n",
        "plt.plot(epochs,loss,'bo',label='Training loss')\n",
        "plt.plot(epochs,val_loss,'b',label='Validation loss')\n",
        "plt.title('Training and validation loss')\n",
        "plt.xlabel('Epochs')\n",
        "plt.ylabel('Loss')\n",
        "plt.legend()\n",
        "plt.show()\n",
        "\n",
        "plt.figure()\n",
        "acc = history.history['acc']\n",
        "#acc = history.history['soft_acc']\n",
        "#val_acc = history.history['val_soft_acc']\n",
        "val_acc = history.history['val_acc']\n",
        "plt.plot(epochs, acc, 'bo', label='Training acc')\n",
        "plt.plot(epochs, val_acc, 'b', label='Validation acc')\n",
        "plt.title('Training and validation accuracy')\n",
        "plt.xlabel('Epochs')\n",
        "plt.ylabel('Acc')\n",
        "plt.legend()\n",
        "plt.show()"
      ],
      "execution_count": 14,
      "outputs": [
        {
          "output_type": "stream",
          "name": "stdout",
          "text": [
            "Epoch 1/20\n",
            "150/150 [==============================] - 43s 100ms/step - loss: 0.0384 - acc: 0.7015 - val_loss: 0.0324 - val_acc: 0.7100\n",
            "Epoch 2/20\n",
            "150/150 [==============================] - 15s 98ms/step - loss: 0.0288 - acc: 0.7035 - val_loss: 0.0263 - val_acc: 0.7100\n",
            "Epoch 3/20\n",
            "150/150 [==============================] - 15s 98ms/step - loss: 0.0240 - acc: 0.7035 - val_loss: 0.0228 - val_acc: 0.7100\n",
            "Epoch 4/20\n",
            "150/150 [==============================] - 15s 97ms/step - loss: 0.0211 - acc: 0.7035 - val_loss: 0.0206 - val_acc: 0.7100\n",
            "Epoch 5/20\n",
            "150/150 [==============================] - 15s 97ms/step - loss: 0.0193 - acc: 0.7035 - val_loss: 0.0190 - val_acc: 0.7100\n",
            "Epoch 6/20\n",
            "150/150 [==============================] - 15s 99ms/step - loss: 0.0181 - acc: 0.7035 - val_loss: 0.0181 - val_acc: 0.7100\n",
            "Epoch 7/20\n",
            "150/150 [==============================] - 15s 99ms/step - loss: 0.0172 - acc: 0.7035 - val_loss: 0.0173 - val_acc: 0.7100\n",
            "Epoch 8/20\n",
            "150/150 [==============================] - 15s 97ms/step - loss: 0.0166 - acc: 0.7035 - val_loss: 0.0167 - val_acc: 0.7100\n",
            "Epoch 9/20\n",
            "150/150 [==============================] - 15s 100ms/step - loss: 0.0161 - acc: 0.7035 - val_loss: 0.0164 - val_acc: 0.7100\n",
            "Epoch 10/20\n",
            "150/150 [==============================] - 15s 97ms/step - loss: 0.0158 - acc: 0.7035 - val_loss: 0.0161 - val_acc: 0.7100\n",
            "Epoch 11/20\n",
            "150/150 [==============================] - 15s 97ms/step - loss: 0.0155 - acc: 0.7035 - val_loss: 0.0158 - val_acc: 0.7100\n",
            "Epoch 12/20\n",
            "150/150 [==============================] - 14s 97ms/step - loss: 0.0154 - acc: 0.7035 - val_loss: 0.0157 - val_acc: 0.7100\n",
            "Epoch 13/20\n",
            "150/150 [==============================] - 15s 97ms/step - loss: 0.0152 - acc: 0.7035 - val_loss: 0.0155 - val_acc: 0.7100\n",
            "Epoch 14/20\n",
            "150/150 [==============================] - 15s 97ms/step - loss: 0.0152 - acc: 0.7035 - val_loss: 0.0154 - val_acc: 0.7100\n",
            "Epoch 15/20\n",
            "150/150 [==============================] - 15s 97ms/step - loss: 0.0150 - acc: 0.7035 - val_loss: 0.0153 - val_acc: 0.7100\n",
            "Epoch 16/20\n",
            "150/150 [==============================] - 15s 97ms/step - loss: 0.0149 - acc: 0.7035 - val_loss: 0.0152 - val_acc: 0.7100\n",
            "Epoch 17/20\n",
            "150/150 [==============================] - 14s 97ms/step - loss: 0.0149 - acc: 0.7035 - val_loss: 0.0151 - val_acc: 0.7100\n",
            "Epoch 18/20\n",
            "150/150 [==============================] - 14s 97ms/step - loss: 0.0148 - acc: 0.7035 - val_loss: 0.0151 - val_acc: 0.7100\n",
            "Epoch 19/20\n",
            "150/150 [==============================] - 15s 97ms/step - loss: 0.0147 - acc: 0.7035 - val_loss: 0.0150 - val_acc: 0.7100\n",
            "Epoch 20/20\n",
            "150/150 [==============================] - 14s 97ms/step - loss: 0.0147 - acc: 0.7035 - val_loss: 0.0149 - val_acc: 0.7100\n"
          ]
        },
        {
          "output_type": "display_data",
          "data": {
            "image/png": "[encoded data removed]",
            "text/plain": [
              "<Figure size 432x288 with 1 Axes>"
            ]
          },
          "metadata": {
            "needs_background": "light"
          }
        },
        {
          "output_type": "display_data",
          "data": {
            "image/png": "[encoded data removed]",
            "text/plain": [
              "<Figure size 432x288 with 1 Axes>"
            ]
          },
          "metadata": {
            "needs_background": "light"
          }
        }
      ]
    },
    {
      "cell_type": "markdown",
      "metadata": {
        "id": "iq6VbVM7ZXoX"
      },
      "source": [
        "## To predict and test the model. See the code at the end"
      ]
    },
    {
      "cell_type": "markdown",
      "metadata": {
        "id": "lTrPHo_OA_g7"
      },
      "source": [
        "## Recurrent Neural Network Model"
      ]
    },
    {
      "cell_type": "code",
      "metadata": {
        "id": "KQ6fUdO5A8p2"
      },
      "source": [
        "# For RNN we will need to use sequence embedding instead of one hot encoding\n",
        "## Sequence Encoding of the text\n",
        "sequences = tokenizer.texts_to_sequences(list(df_cap.caption.values))"
      ],
      "execution_count": 17,
      "outputs": []
    },
    {
      "cell_type": "code",
      "metadata": {
        "id": "9LqMjucEBhiV",
        "colab": {
          "base_uri": "https://localhost:8080/"
        },
        "outputId": "f197c88d-22aa-487a-887c-09ca4df43fab"
      },
      "source": [
        "print(sequences[0])"
      ],
      "execution_count": 18,
      "outputs": [
        {
          "output_type": "stream",
          "name": "stdout",
          "text": [
            "[724, 7, 35, 884, 384, 91]\n"
          ]
        }
      ]
    },
    {
      "cell_type": "markdown",
      "metadata": {
        "id": "fUg-9bQVBlbh"
      },
      "source": [
        "### Making sequence encoding of same length to ensure we have same number of dimensions across all elements"
      ]
    },
    {
      "cell_type": "code",
      "metadata": {
        "id": "seeIM8YpBlDJ",
        "colab": {
          "base_uri": "https://localhost:8080/"
        },
        "outputId": "0a9f1b0d-fc48-4332-8039-8c020aec6db9"
      },
      "source": [
        "## set max length of all dimensions to 50\n",
        "max_length=50\n",
        "X_seq = np.zeros((len(sequences),max_length))\n",
        "for i in range(len(sequences)):\n",
        "    n = len(sequences[i])\n",
        "    if n==0:\n",
        "        print(i)\n",
        "    else:\n",
        "        X_seq[i,-n:] = sequences[i]\n",
        "X_seq.shape"
      ],
      "execution_count": 19,
      "outputs": [
        {
          "output_type": "execute_result",
          "data": {
            "text/plain": [
              "(6000, 50)"
            ]
          },
          "metadata": {},
          "execution_count": 19
        }
      ]
    },
    {
      "cell_type": "markdown",
      "metadata": {
        "id": "kOjlB207CKUj"
      },
      "source": [
        "## Build and train RNN Model "
      ]
    },
    {
      "cell_type": "code",
      "metadata": {
        "id": "J26ocLcFCNU6",
        "colab": {
          "base_uri": "https://localhost:8080/",
          "height": 926
        },
        "outputId": "b004d1cf-78bc-4418-ea3c-c64b46197765"
      },
      "source": [
        "# Some prequisites for RNN\n",
        "## sequences will be our X variable\n",
        "## predictor will be our Y variable\n",
        "predictor = labels[['short-term_memorability','long-term_memorability']].values\n",
        "Y = predictor\n",
        "X = X_seq\n",
        "## Train-Test Split\n",
        "X_train, X_test, Y_train, Y_test = train_test_split(X,Y, test_size=0.2, random_state=42)\n",
        "\n",
        "\n",
        "## Recurrent Neural Network Model \n",
        "## All hyperparameters are selected using GridSearch and Trial & Error Approach\n",
        "\n",
        "model=Sequential() # Create Sequential NN model\n",
        "\n",
        "## add Embedding layer for RNN to map our data into a format suitable for LSTM layer\n",
        "model.add(layers.Embedding(input_dim=5191, output_dim=20, input_length=50))\n",
        "\n",
        "## add LSTM layer for some hidden layer and memory into the network\n",
        "model.add(layers.LSTM(150, activation='selu', recurrent_initializer='uniform', kernel_initializer='zeros', kernel_regularizer=regularizers.l2(0.001)))\n",
        "model.add(layers.Dropout(0.2))\n",
        "\n",
        "## layer of 30 neurons to map down from 150 hidden neurons with ridge regularizer\n",
        "model.add(layers.Dense(30, activation='selu', kernel_regularizer=regularizers.l2(0.001)))\n",
        "\n",
        "## Dropout layer\n",
        "model.add(layers.Dropout(0.6))\n",
        "\n",
        "## Output layer of 2 neurons for each score with sigmoid activation \n",
        "model.add(layers.Dense(2, activation='sigmoid'))\n",
        "\n",
        "## Compile the model \n",
        "# Optimizer Adamax\n",
        "model.compile(optimizer='adamax',loss='mse',metrics=['acc'])\n",
        "\n",
        "\n",
        "## Training the model \n",
        "# Number of epochs also comes from Gridsearch\n",
        "history = model.fit(X_train,Y_train,epochs=10, validation_data=(X_test,Y_test))\n",
        "\n",
        "# visualizing the model\n",
        "loss = history.history['loss']\n",
        "val_loss = history.history['val_loss']\n",
        "\n",
        "epochs = range(1,len(loss)+1)\n",
        "\n",
        "plt.plot(epochs,loss,'bo',label='Training loss')\n",
        "plt.plot(epochs,val_loss,'b',label='Validation loss')\n",
        "plt.title('Training and validation loss')\n",
        "plt.xlabel('Epochs')\n",
        "plt.ylabel('Loss')\n",
        "plt.legend()\n",
        "plt.show()\n",
        "\n",
        "plt.figure()\n",
        "acc = history.history['acc']\n",
        "val_acc = history.history['val_acc']\n",
        "plt.plot(epochs, acc, 'bo', label='Training acc')\n",
        "plt.plot(epochs, val_acc, 'b', label='Validation acc')\n",
        "plt.title('Training and validation accuracy')\n",
        "plt.xlabel('Epochs')\n",
        "plt.ylabel('Acc')\n",
        "plt.legend()\n",
        "plt.show()\n",
        "\n"
      ],
      "execution_count": 20,
      "outputs": [
        {
          "output_type": "stream",
          "name": "stdout",
          "text": [
            "WARNING:tensorflow:Layer lstm will not use cuDNN kernels since it doesn't meet the criteria. It will use a generic GPU kernel as fallback when running on GPU.\n",
            "Epoch 1/10\n",
            "150/150 [==============================] - 15s 91ms/step - loss: 0.0591 - acc: 0.6438 - val_loss: 0.0417 - val_acc: 0.7100\n",
            "Epoch 2/10\n",
            "150/150 [==============================] - 14s 91ms/step - loss: 0.0410 - acc: 0.6627 - val_loss: 0.0315 - val_acc: 0.7100\n",
            "Epoch 3/10\n",
            "150/150 [==============================] - 14s 93ms/step - loss: 0.0323 - acc: 0.6687 - val_loss: 0.0253 - val_acc: 0.7100\n",
            "Epoch 4/10\n",
            "150/150 [==============================] - 14s 94ms/step - loss: 0.0271 - acc: 0.6769 - val_loss: 0.0215 - val_acc: 0.7100\n",
            "Epoch 5/10\n",
            "150/150 [==============================] - 14s 95ms/step - loss: 0.0238 - acc: 0.6850 - val_loss: 0.0199 - val_acc: 0.7100\n",
            "Epoch 6/10\n",
            "150/150 [==============================] - 14s 92ms/step - loss: 0.0215 - acc: 0.6800 - val_loss: 0.0176 - val_acc: 0.7100\n",
            "Epoch 7/10\n",
            "150/150 [==============================] - 14s 94ms/step - loss: 0.0199 - acc: 0.6898 - val_loss: 0.0164 - val_acc: 0.7100\n",
            "Epoch 8/10\n",
            "150/150 [==============================] - 14s 92ms/step - loss: 0.0189 - acc: 0.6906 - val_loss: 0.0162 - val_acc: 0.7100\n",
            "Epoch 9/10\n",
            "150/150 [==============================] - 14s 93ms/step - loss: 0.0180 - acc: 0.6960 - val_loss: 0.0154 - val_acc: 0.7100\n",
            "Epoch 10/10\n",
            "150/150 [==============================] - 14s 92ms/step - loss: 0.0175 - acc: 0.6952 - val_loss: 0.0147 - val_acc: 0.7100\n"
          ]
        },
        {
          "output_type": "display_data",
          "data": {
            "image/png": "[encoded data removed]",
            "text/plain": [
              "<Figure size 432x288 with 1 Axes>"
            ]
          },
          "metadata": {
            "needs_background": "light"
          }
        },
        {
          "output_type": "display_data",
          "data": {
            "image/png": "[encoded data removed]",
            "text/plain": [
              "<Figure size 432x288 with 1 Axes>"
            ]
          },
          "metadata": {
            "needs_background": "light"
          }
        }
      ]
    },
    {
      "cell_type": "markdown",
      "metadata": {
        "id": "XM1pLALq3_Fq"
      },
      "source": [
        "## Predict the values"
      ]
    },
    {
      "cell_type": "code",
      "metadata": {
        "id": "2WqTIkJl3vXE",
        "colab": {
          "base_uri": "https://localhost:8080/"
        },
        "outputId": "0344695f-8298-440e-84af-6f4d81c3f682"
      },
      "source": [
        "predictions = model.predict(X_test)\n",
        "predictions.shape"
      ],
      "execution_count": 21,
      "outputs": [
        {
          "output_type": "execute_result",
          "data": {
            "text/plain": [
              "(1200, 2)"
            ]
          },
          "metadata": {},
          "execution_count": 21
        }
      ]
    },
    {
      "cell_type": "code",
      "metadata": {
        "id": "Im1WSv9wLMFj"
      },
      "source": [
        "#predictions"
      ],
      "execution_count": null,
      "outputs": []
    },
    {
      "cell_type": "markdown",
      "metadata": {
        "id": "8rnXKv9t5A87"
      },
      "source": [
        "## Get Spearman Rank Score"
      ]
    },
    {
      "cell_type": "markdown",
      "metadata": {
        "id": "VinG1EjBZrYL"
      },
      "source": [
        "### MLP results"
      ]
    },
    {
      "cell_type": "code",
      "metadata": {
        "id": "YntwJ3Yj4DKl",
        "colab": {
          "base_uri": "https://localhost:8080/"
        },
        "outputId": "2db7cb35-e15c-4f2a-87ef-7757b2afd06d"
      },
      "source": [
        "rho = scipy.stats.spearmanr(predictions, Y_test)[0]\n",
        "print(rho)\n",
        "print(\"Short-term:\", rho[2][1])\n",
        "print(\"Long-term:\", rho[3][1])"
      ],
      "execution_count": 13,
      "outputs": [
        {
          "output_type": "stream",
          "name": "stdout",
          "text": [
            "[[1.         0.99973442 0.41740519 0.19207962]\n",
            " [0.99973442 1.         0.41525691 0.19158925]\n",
            " [0.41740519 0.41525691 1.         0.34074423]\n",
            " [0.19207962 0.19158925 0.34074423 1.        ]]\n",
            "Short-term: 0.41525691492771527\n",
            "Long-term: 0.19158924541517497\n"
          ]
        }
      ]
    },
    {
      "cell_type": "markdown",
      "metadata": {
        "id": "zGl5HYSAZ2C-"
      },
      "source": [
        "### RNN results"
      ]
    },
    {
      "cell_type": "code",
      "metadata": {
        "id": "EZIdhMliZ1QT",
        "colab": {
          "base_uri": "https://localhost:8080/"
        },
        "outputId": "8b6581c8-7b80-41c9-abe2-5739adaf1503"
      },
      "source": [
        "rho = scipy.stats.spearmanr(predictions, Y_test)[0]\n",
        "print(rho)\n",
        "print(\"Short-term:\", rho[2][1])\n",
        "print(\"Long-term:\", rho[3][1])"
      ],
      "execution_count": 22,
      "outputs": [
        {
          "output_type": "stream",
          "name": "stdout",
          "text": [
            "[[1.         0.99996813 0.3414744  0.1726423 ]\n",
            " [0.99996813 1.         0.34139774 0.17232622]\n",
            " [0.3414744  0.34139774 1.         0.34074423]\n",
            " [0.1726423  0.17232622 0.34074423 1.        ]]\n",
            "Short-term: 0.3413977415008361\n",
            "Long-term: 0.17232622302398942\n"
          ]
        }
      ]
    },
    {
      "cell_type": "markdown",
      "metadata": {
        "id": "US0AIAVzZ4hd"
      },
      "source": [
        "### CNN results"
      ]
    },
    {
      "cell_type": "code",
      "metadata": {
        "id": "ZL10o3F3Zz5E",
        "colab": {
          "base_uri": "https://localhost:8080/"
        },
        "outputId": "35c44001-984e-4fc2-9d61-6236031aa1da"
      },
      "source": [
        "rho = scipy.stats.spearmanr(predictions, Y_test)[0]\n",
        "print(rho)\n",
        "print(\"Short-term:\", rho[2][1])\n",
        "print(\"Long-term:\", rho[3][1])"
      ],
      "execution_count": 16,
      "outputs": [
        {
          "output_type": "stream",
          "name": "stdout",
          "text": [
            "[[1.         0.99681635 0.15804847 0.07551232]\n",
            " [0.99681635 1.         0.16066631 0.07623596]\n",
            " [0.15804847 0.16066631 1.         0.34074423]\n",
            " [0.07551232 0.07623596 0.34074423 1.        ]]\n",
            "Short-term: 0.16066630813388538\n",
            "Long-term: 0.07623596170944624\n"
          ]
        }
      ]
    },
    {
      "cell_type": "markdown",
      "metadata": {
        "id": "YorYNcIu5M7b"
      },
      "source": [
        "## Save Model and Create Predictor Score CSV"
      ]
    },
    {
      "cell_type": "code",
      "metadata": {
        "id": "atw9nGVr4L3I"
      },
      "source": [
        "#model.save('./my_model_aks.h5')\n",
        "final_results = pd.DataFrame({'video':labels['video'][4800:],'Short-term-pred':predictions[:,0],'Long-term-pred':predictions[:,1], 'Short-term-true':labels['short-term_memorability'][4800:], 'Long-term-true':labels['long-term_memorability'][4800:]})\n",
        "final_results = final_results.reset_index(drop=True)"
      ],
      "execution_count": 23,
      "outputs": []
    },
    {
      "cell_type": "code",
      "metadata": {
        "id": "orND916M5vws"
      },
      "source": [
        "final_results\n",
        "final_results.to_csv('/content/drive/My Drive/Media-Memorability/memorability_scores_MLP.csv')\n",
        "#final_results.to_csv('/content/drive/My Drive/Media-Memorability/memorability_scores_CNN.csv')\n",
        "#final_results.to_csv('/content/drive/My Drive/Media-Memorability/memorability_scores_RNN.csv')"
      ],
      "execution_count": 26,
      "outputs": []
    },
    {
      "cell_type": "code",
      "metadata": {
        "id": "Iy-uzR4kRZWn"
      },
      "source": [
        ""
      ],
      "execution_count": null,
      "outputs": []
    },
    {
      "cell_type": "markdown",
      "metadata": {
        "id": "x3cwhNhnR1Oa"
      },
      "source": [
        "## --- END OF MODELS ---"
      ]
    }
  ]
}